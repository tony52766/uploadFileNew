{
 "cells": [
  {
   "cell_type": "code",
   "execution_count": 37,
   "id": "3b9b0f72",
   "metadata": {},
   "outputs": [],
   "source": [
    "import pandas as pd\n",
    "import numpy as np\n"
   ]
  },
  {
   "cell_type": "code",
   "execution_count": 38,
   "id": "e2727772",
   "metadata": {},
   "outputs": [],
   "source": [
    "data_source = 'http://archive.ics.uci.edu/ml/machine-learning-databases/car/car.data'\n",
    "\n",
    "names = ['buying',\n",
    "         'maint',\n",
    "         'doors',\n",
    "         'persons',\n",
    "         'lug_boot',\n",
    "         'safety',\n",
    "         'class']\n",
    "\n",
    "cdf = pd.read_csv(\n",
    "    filepath_or_buffer=data_source, \n",
    "    names=names, \n",
    "    sep=','\n",
    ")"
   ]
  },
  {
   "cell_type": "code",
   "execution_count": 39,
   "id": "e6035581",
   "metadata": {},
   "outputs": [],
   "source": [
    "class CategoricalNB():\n",
    "    def __init__(self, train_df, test_df, label):\n",
    "        self.X_train, self.y_train = self.split_features_targets(df=train_df, label=label)\n",
    "        self.X_test, self.y_test = self.split_features_targets(df=test_df, label=label)\n",
    "\n",
    "        self.X_test_vals = self.X_test.values\n",
    "        self.y_test_vals = self.y_test.values\n",
    "\n",
    "        self.X_likelihood, self.y_likelihood = self.compute_likelihood()\n",
    "\n",
    "    def split_features_targets(self, df, label):\n",
    "        X = df.drop(columns=[label], axis=1)\n",
    "        y = df[label]\n",
    "        return X, y\n",
    "\n",
    "    def compute_likelihood(self):\n",
    "        X_likelihood = {}\n",
    "\n",
    "        yc_df = self.y_train.value_counts().to_frame()\n",
    "        yc_df.reset_index(inplace=True)\n",
    "        yc_df.columns = ['class', 'count']\n",
    "\n",
    "        y_vc = {i : j for (i, j) in zip(yc_df['class'], yc_df['count'])}\n",
    "        y_vc_k = list(y_vc.keys())\n",
    "\n",
    "        for col in self.X_train:\n",
    "            each_col_dict = {}\n",
    "            x_col_vals = self.X_train[col].value_counts().to_frame().index.to_list()\n",
    "            fydf = pd.DataFrame(data={col : self.X_train[col], 'y' : self.y_train})\n",
    "\n",
    "            for ex in x_col_vals:\n",
    "                each_x_dict = {}\n",
    "                x_ex_df = fydf[fydf[col] == ex]\n",
    "\n",
    "                for ey in y_vc_k:\n",
    "                    x_y_df = x_ex_df[x_ex_df['y'] == ey]\n",
    "                    each_x_dict[ey] = len(x_y_df) / y_vc[ey]\n",
    "\n",
    "                each_col_dict[ex] = each_x_dict\n",
    "            X_likelihood[col] = each_col_dict\n",
    "        y_likelihood = {i : j / sum(list(y_vc.values())) for (i, j) in y_vc.items()}\n",
    "\n",
    "        return X_likelihood, y_likelihood\n",
    "\n",
    "    def predictor(self, X_new):\n",
    "        cols = list(self.X_likelihood.keys())\n",
    "        col_new = {i : j for (i, j) in zip(cols, X_new)}\n",
    "\n",
    "        lprobs = {}\n",
    "        for l, v in self.y_likelihood.items():\n",
    "            cate_v = [self.X_likelihood[cn][cl][l] for (cn, cl) in col_new.items()]\n",
    "            lprobs[l] = round((np.prod(cate_v) * v), 4)\n",
    "\n",
    "        prob_ks = list(lprobs.keys())\n",
    "        prob_vs = list(lprobs.values())\n",
    "\n",
    "        return prob_ks[np.argmax(prob_vs)]\n",
    "\n",
    "    def predict(self):\n",
    "        if len(self.X_test_vals) == 1:\n",
    "            return self.predictor(X_new=self.X_test_vals[0])\n",
    "        preds = [self.predictor(X_new=i) for i in self.X_test_vals]\n",
    "        return preds\n",
    "\n",
    "    def accuracy_score(self, preds):\n",
    "        actual_vals = np.array(self.y_test_vals)\n",
    "        preds = np.array(preds)\n",
    "        corrects = np.count_nonzero(np.where((actual_vals == preds), 1, 0))\n",
    "        return corrects / len(actual_vals)"
   ]
  },
  {
   "cell_type": "code",
   "execution_count": 40,
   "id": "e7a7b61d",
   "metadata": {},
   "outputs": [],
   "source": [
    "def splitter(dframe, percentage=0.8, random_state=True):\n",
    "    if random_state:\n",
    "        dframe = dframe.sample(frac=1)\n",
    "\n",
    "    thresh = round(len(dframe) * percentage)\n",
    "    train_df = dframe.iloc[:thresh]\n",
    "    test_df = dframe.iloc[thresh:]\n",
    "\n",
    "    return train_df, test_df"
   ]
  },
  {
   "cell_type": "code",
   "execution_count": 41,
   "id": "71787ac5",
   "metadata": {},
   "outputs": [],
   "source": [
    "train_df, test_df = splitter(dframe=cdf)"
   ]
  },
  {
   "cell_type": "code",
   "execution_count": 42,
   "id": "a99501ac",
   "metadata": {},
   "outputs": [],
   "source": [
    "nb = CategoricalNB(\n",
    "    train_df=train_df, \n",
    "    test_df=test_df, \n",
    "    label='class'\n",
    ")"
   ]
  },
  {
   "cell_type": "code",
   "execution_count": 43,
   "id": "2bf90a86",
   "metadata": {},
   "outputs": [
    {
     "name": "stdout",
     "output_type": "stream",
     "text": [
      "['vgood', 'unacc', 'unacc', 'unacc', 'unacc', 'unacc', 'unacc', 'unacc', 'unacc', 'unacc', 'unacc', 'unacc', 'unacc', 'unacc', 'unacc', 'unacc', 'unacc', 'unacc', 'unacc', 'unacc', 'unacc', 'unacc', 'unacc', 'acc', 'unacc', 'unacc', 'unacc', 'unacc', 'unacc', 'unacc', 'unacc', 'unacc', 'unacc', 'unacc', 'unacc', 'unacc', 'unacc', 'acc', 'unacc', 'unacc', 'acc', 'unacc', 'unacc', 'acc', 'unacc', 'acc', 'unacc', 'unacc', 'good', 'unacc', 'unacc', 'unacc', 'unacc', 'unacc', 'unacc', 'unacc', 'unacc', 'vgood', 'unacc', 'unacc', 'unacc', 'unacc', 'acc', 'unacc', 'unacc', 'unacc', 'unacc', 'unacc', 'unacc', 'unacc', 'unacc', 'unacc', 'unacc', 'acc', 'unacc', 'vgood', 'unacc', 'unacc', 'acc', 'acc', 'unacc', 'unacc', 'unacc', 'unacc', 'acc', 'unacc', 'good', 'acc', 'unacc', 'unacc', 'unacc', 'unacc', 'unacc', 'unacc', 'unacc', 'acc', 'unacc', 'unacc', 'unacc', 'unacc', 'unacc', 'acc', 'unacc', 'unacc', 'unacc', 'acc', 'unacc', 'unacc', 'unacc', 'unacc', 'unacc', 'unacc', 'unacc', 'unacc', 'unacc', 'unacc', 'unacc', 'unacc', 'unacc', 'unacc', 'unacc', 'unacc', 'acc', 'unacc', 'unacc', 'unacc', 'unacc', 'acc', 'good', 'unacc', 'unacc', 'unacc', 'unacc', 'unacc', 'unacc', 'unacc', 'unacc', 'unacc', 'unacc', 'vgood', 'unacc', 'unacc', 'acc', 'unacc', 'unacc', 'unacc', 'unacc', 'unacc', 'unacc', 'unacc', 'acc', 'unacc', 'unacc', 'acc', 'unacc', 'unacc', 'acc', 'acc', 'unacc', 'acc', 'unacc', 'unacc', 'unacc', 'unacc', 'unacc', 'unacc', 'acc', 'unacc', 'unacc', 'unacc', 'unacc', 'unacc', 'unacc', 'unacc', 'good', 'unacc', 'acc', 'unacc', 'acc', 'unacc', 'unacc', 'acc', 'unacc', 'unacc', 'unacc', 'acc', 'unacc', 'unacc', 'unacc', 'unacc', 'unacc', 'unacc', 'unacc', 'acc', 'unacc', 'unacc', 'unacc', 'acc', 'unacc', 'unacc', 'unacc', 'good', 'unacc', 'unacc', 'unacc', 'unacc', 'unacc', 'unacc', 'unacc', 'unacc', 'unacc', 'acc', 'unacc', 'unacc', 'unacc', 'unacc', 'unacc', 'unacc', 'unacc', 'unacc', 'unacc', 'unacc', 'unacc', 'acc', 'unacc', 'unacc', 'unacc', 'unacc', 'acc', 'unacc', 'unacc', 'acc', 'unacc', 'unacc', 'unacc', 'acc', 'acc', 'unacc', 'unacc', 'unacc', 'unacc', 'acc', 'unacc', 'unacc', 'unacc', 'unacc', 'unacc', 'unacc', 'acc', 'unacc', 'unacc', 'unacc', 'unacc', 'unacc', 'unacc', 'unacc', 'acc', 'unacc', 'unacc', 'unacc', 'acc', 'unacc', 'unacc', 'unacc', 'unacc', 'acc', 'unacc', 'unacc', 'unacc', 'unacc', 'unacc', 'unacc', 'unacc', 'unacc', 'unacc', 'unacc', 'unacc', 'unacc', 'unacc', 'acc', 'unacc', 'unacc', 'unacc', 'unacc', 'unacc', 'unacc', 'unacc', 'unacc', 'unacc', 'acc', 'unacc', 'unacc', 'acc', 'unacc', 'acc', 'vgood', 'unacc', 'unacc', 'unacc', 'unacc', 'acc', 'unacc', 'unacc', 'unacc', 'unacc', 'unacc', 'good', 'unacc', 'unacc', 'unacc', 'unacc', 'unacc', 'unacc', 'unacc', 'unacc', 'unacc', 'unacc', 'unacc', 'unacc', 'unacc', 'unacc', 'unacc', 'unacc', 'unacc', 'unacc', 'acc', 'unacc', 'unacc', 'unacc', 'unacc', 'unacc', 'unacc', 'acc', 'unacc', 'unacc', 'acc', 'unacc', 'unacc', 'unacc', 'unacc', 'unacc', 'unacc', 'acc', 'unacc', 'unacc', 'unacc']\n"
     ]
    }
   ],
   "source": [
    "preds = nb.predict()\n",
    "print(preds)"
   ]
  },
  {
   "cell_type": "code",
   "execution_count": 44,
   "id": "426bf7c4",
   "metadata": {},
   "outputs": [
    {
     "name": "stdout",
     "output_type": "stream",
     "text": [
      "0.861271676300578\n"
     ]
    }
   ],
   "source": [
    "acc = nb.accuracy_score(preds=preds)\n",
    "print(acc)"
   ]
  },
  {
   "cell_type": "code",
   "execution_count": null,
   "id": "de8afa89",
   "metadata": {},
   "outputs": [],
   "source": []
  }
 ],
 "metadata": {
  "kernelspec": {
   "display_name": "Python 3 (ipykernel)",
   "language": "python",
   "name": "python3"
  },
  "language_info": {
   "codemirror_mode": {
    "name": "ipython",
    "version": 3
   },
   "file_extension": ".py",
   "mimetype": "text/x-python",
   "name": "python",
   "nbconvert_exporter": "python",
   "pygments_lexer": "ipython3",
   "version": "3.9.12"
  }
 },
 "nbformat": 4,
 "nbformat_minor": 5
}
